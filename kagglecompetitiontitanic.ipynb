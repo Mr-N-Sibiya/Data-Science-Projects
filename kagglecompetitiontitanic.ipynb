{
 "cells": [
  {
   "cell_type": "code",
   "execution_count": 1,
   "id": "3c35ca51",
   "metadata": {
    "_cell_guid": "b1076dfc-b9ad-4769-8c92-a6c4dae69d19",
    "_uuid": "8f2839f25d086af736a60e9eeb907d3b93b6e0e5",
    "execution": {
     "iopub.execute_input": "2022-08-06T13:48:23.347179Z",
     "iopub.status.busy": "2022-08-06T13:48:23.346577Z",
     "iopub.status.idle": "2022-08-06T13:48:23.365101Z",
     "shell.execute_reply": "2022-08-06T13:48:23.364275Z"
    },
    "papermill": {
     "duration": 0.036254,
     "end_time": "2022-08-06T13:48:23.368001",
     "exception": false,
     "start_time": "2022-08-06T13:48:23.331747",
     "status": "completed"
    },
    "tags": []
   },
   "outputs": [
    {
     "name": "stdout",
     "output_type": "stream",
     "text": [
      "/kaggle/input/titanic/train.csv\n",
      "/kaggle/input/titanic/test.csv\n",
      "/kaggle/input/titanic/gender_submission.csv\n"
     ]
    }
   ],
   "source": [
    "# This Python 3 environment comes with many helpful analytics libraries installed\n",
    "# It is defined by the kaggle/python Docker image: https://github.com/kaggle/docker-python\n",
    "# For example, here's several helpful packages to load\n",
    "\n",
    "import numpy as np # linear algebra\n",
    "import pandas as pd # data processing, CSV file I/O (e.g. pd.read_csv)\n",
    "\n",
    "# Input data files are available in the read-only \"../input/\" directory\n",
    "# For example, running this (by clicking run or pressing Shift+Enter) will list all files under the input directory\n",
    "\n",
    "import os\n",
    "for dirname, _, filenames in os.walk('/kaggle/input'):\n",
    "    for filename in filenames:\n",
    "        print(os.path.join(dirname, filename))\n",
    "\n",
    "# You can write up to 20GB to the current directory (/kaggle/working/) that gets preserved as output when you create a version using \"Save & Run All\" \n",
    "# You can also write temporary files to /kaggle/temp/, but they won't be saved outside of the current session"
   ]
  },
  {
   "cell_type": "code",
   "execution_count": 2,
   "id": "82148e33",
   "metadata": {
    "execution": {
     "iopub.execute_input": "2022-08-06T13:48:23.387454Z",
     "iopub.status.busy": "2022-08-06T13:48:23.386841Z",
     "iopub.status.idle": "2022-08-06T13:48:24.407282Z",
     "shell.execute_reply": "2022-08-06T13:48:24.406136Z"
    },
    "papermill": {
     "duration": 1.033717,
     "end_time": "2022-08-06T13:48:24.410840",
     "exception": false,
     "start_time": "2022-08-06T13:48:23.377123",
     "status": "completed"
    },
    "tags": []
   },
   "outputs": [],
   "source": [
    "import numpy as np\n",
    "import pandas as pd\n",
    "import matplotlib.pyplot as plt\n",
    "import seaborn as sns\n",
    "from pandas import DataFrame\n"
   ]
  },
  {
   "cell_type": "code",
   "execution_count": 3,
   "id": "2233718f",
   "metadata": {
    "execution": {
     "iopub.execute_input": "2022-08-06T13:48:24.427850Z",
     "iopub.status.busy": "2022-08-06T13:48:24.427437Z",
     "iopub.status.idle": "2022-08-06T13:48:24.457076Z",
     "shell.execute_reply": "2022-08-06T13:48:24.455916Z"
    },
    "papermill": {
     "duration": 0.040681,
     "end_time": "2022-08-06T13:48:24.459644",
     "exception": false,
     "start_time": "2022-08-06T13:48:24.418963",
     "status": "completed"
    },
    "tags": []
   },
   "outputs": [],
   "source": [
    "file_1='../input/titanic/train.csv'\n",
    "file_2='../input/titanic/test.csv'\n",
    "file_3='../input/titanic/gender_submission.csv'\n",
    "df_X_train =pd.read_csv(file_1)\n",
    "df_X_test=pd.read_csv(file_2)\n",
    "df_p_target=pd.read_csv(file_3)"
   ]
  },
  {
   "cell_type": "code",
   "execution_count": 4,
   "id": "e709d50e",
   "metadata": {
    "execution": {
     "iopub.execute_input": "2022-08-06T13:48:24.476683Z",
     "iopub.status.busy": "2022-08-06T13:48:24.475588Z",
     "iopub.status.idle": "2022-08-06T13:48:24.506113Z",
     "shell.execute_reply": "2022-08-06T13:48:24.505359Z"
    },
    "papermill": {
     "duration": 0.041311,
     "end_time": "2022-08-06T13:48:24.508386",
     "exception": false,
     "start_time": "2022-08-06T13:48:24.467075",
     "status": "completed"
    },
    "tags": []
   },
   "outputs": [
    {
     "data": {
      "text/html": [
       "<div>\n",
       "<style scoped>\n",
       "    .dataframe tbody tr th:only-of-type {\n",
       "        vertical-align: middle;\n",
       "    }\n",
       "\n",
       "    .dataframe tbody tr th {\n",
       "        vertical-align: top;\n",
       "    }\n",
       "\n",
       "    .dataframe thead th {\n",
       "        text-align: right;\n",
       "    }\n",
       "</style>\n",
       "<table border=\"1\" class=\"dataframe\">\n",
       "  <thead>\n",
       "    <tr style=\"text-align: right;\">\n",
       "      <th></th>\n",
       "      <th>PassengerId</th>\n",
       "      <th>Survived</th>\n",
       "      <th>Pclass</th>\n",
       "      <th>Name</th>\n",
       "      <th>Sex</th>\n",
       "      <th>Age</th>\n",
       "      <th>SibSp</th>\n",
       "      <th>Parch</th>\n",
       "      <th>Ticket</th>\n",
       "      <th>Fare</th>\n",
       "      <th>Cabin</th>\n",
       "      <th>Embarked</th>\n",
       "    </tr>\n",
       "  </thead>\n",
       "  <tbody>\n",
       "    <tr>\n",
       "      <th>0</th>\n",
       "      <td>1</td>\n",
       "      <td>0</td>\n",
       "      <td>3</td>\n",
       "      <td>Braund, Mr. Owen Harris</td>\n",
       "      <td>male</td>\n",
       "      <td>22.0</td>\n",
       "      <td>1</td>\n",
       "      <td>0</td>\n",
       "      <td>A/5 21171</td>\n",
       "      <td>7.2500</td>\n",
       "      <td>NaN</td>\n",
       "      <td>S</td>\n",
       "    </tr>\n",
       "    <tr>\n",
       "      <th>1</th>\n",
       "      <td>2</td>\n",
       "      <td>1</td>\n",
       "      <td>1</td>\n",
       "      <td>Cumings, Mrs. John Bradley (Florence Briggs Th...</td>\n",
       "      <td>female</td>\n",
       "      <td>38.0</td>\n",
       "      <td>1</td>\n",
       "      <td>0</td>\n",
       "      <td>PC 17599</td>\n",
       "      <td>71.2833</td>\n",
       "      <td>C85</td>\n",
       "      <td>C</td>\n",
       "    </tr>\n",
       "    <tr>\n",
       "      <th>2</th>\n",
       "      <td>3</td>\n",
       "      <td>1</td>\n",
       "      <td>3</td>\n",
       "      <td>Heikkinen, Miss. Laina</td>\n",
       "      <td>female</td>\n",
       "      <td>26.0</td>\n",
       "      <td>0</td>\n",
       "      <td>0</td>\n",
       "      <td>STON/O2. 3101282</td>\n",
       "      <td>7.9250</td>\n",
       "      <td>NaN</td>\n",
       "      <td>S</td>\n",
       "    </tr>\n",
       "    <tr>\n",
       "      <th>3</th>\n",
       "      <td>4</td>\n",
       "      <td>1</td>\n",
       "      <td>1</td>\n",
       "      <td>Futrelle, Mrs. Jacques Heath (Lily May Peel)</td>\n",
       "      <td>female</td>\n",
       "      <td>35.0</td>\n",
       "      <td>1</td>\n",
       "      <td>0</td>\n",
       "      <td>113803</td>\n",
       "      <td>53.1000</td>\n",
       "      <td>C123</td>\n",
       "      <td>S</td>\n",
       "    </tr>\n",
       "    <tr>\n",
       "      <th>4</th>\n",
       "      <td>5</td>\n",
       "      <td>0</td>\n",
       "      <td>3</td>\n",
       "      <td>Allen, Mr. William Henry</td>\n",
       "      <td>male</td>\n",
       "      <td>35.0</td>\n",
       "      <td>0</td>\n",
       "      <td>0</td>\n",
       "      <td>373450</td>\n",
       "      <td>8.0500</td>\n",
       "      <td>NaN</td>\n",
       "      <td>S</td>\n",
       "    </tr>\n",
       "    <tr>\n",
       "      <th>...</th>\n",
       "      <td>...</td>\n",
       "      <td>...</td>\n",
       "      <td>...</td>\n",
       "      <td>...</td>\n",
       "      <td>...</td>\n",
       "      <td>...</td>\n",
       "      <td>...</td>\n",
       "      <td>...</td>\n",
       "      <td>...</td>\n",
       "      <td>...</td>\n",
       "      <td>...</td>\n",
       "      <td>...</td>\n",
       "    </tr>\n",
       "    <tr>\n",
       "      <th>886</th>\n",
       "      <td>887</td>\n",
       "      <td>0</td>\n",
       "      <td>2</td>\n",
       "      <td>Montvila, Rev. Juozas</td>\n",
       "      <td>male</td>\n",
       "      <td>27.0</td>\n",
       "      <td>0</td>\n",
       "      <td>0</td>\n",
       "      <td>211536</td>\n",
       "      <td>13.0000</td>\n",
       "      <td>NaN</td>\n",
       "      <td>S</td>\n",
       "    </tr>\n",
       "    <tr>\n",
       "      <th>887</th>\n",
       "      <td>888</td>\n",
       "      <td>1</td>\n",
       "      <td>1</td>\n",
       "      <td>Graham, Miss. Margaret Edith</td>\n",
       "      <td>female</td>\n",
       "      <td>19.0</td>\n",
       "      <td>0</td>\n",
       "      <td>0</td>\n",
       "      <td>112053</td>\n",
       "      <td>30.0000</td>\n",
       "      <td>B42</td>\n",
       "      <td>S</td>\n",
       "    </tr>\n",
       "    <tr>\n",
       "      <th>888</th>\n",
       "      <td>889</td>\n",
       "      <td>0</td>\n",
       "      <td>3</td>\n",
       "      <td>Johnston, Miss. Catherine Helen \"Carrie\"</td>\n",
       "      <td>female</td>\n",
       "      <td>NaN</td>\n",
       "      <td>1</td>\n",
       "      <td>2</td>\n",
       "      <td>W./C. 6607</td>\n",
       "      <td>23.4500</td>\n",
       "      <td>NaN</td>\n",
       "      <td>S</td>\n",
       "    </tr>\n",
       "    <tr>\n",
       "      <th>889</th>\n",
       "      <td>890</td>\n",
       "      <td>1</td>\n",
       "      <td>1</td>\n",
       "      <td>Behr, Mr. Karl Howell</td>\n",
       "      <td>male</td>\n",
       "      <td>26.0</td>\n",
       "      <td>0</td>\n",
       "      <td>0</td>\n",
       "      <td>111369</td>\n",
       "      <td>30.0000</td>\n",
       "      <td>C148</td>\n",
       "      <td>C</td>\n",
       "    </tr>\n",
       "    <tr>\n",
       "      <th>890</th>\n",
       "      <td>891</td>\n",
       "      <td>0</td>\n",
       "      <td>3</td>\n",
       "      <td>Dooley, Mr. Patrick</td>\n",
       "      <td>male</td>\n",
       "      <td>32.0</td>\n",
       "      <td>0</td>\n",
       "      <td>0</td>\n",
       "      <td>370376</td>\n",
       "      <td>7.7500</td>\n",
       "      <td>NaN</td>\n",
       "      <td>Q</td>\n",
       "    </tr>\n",
       "  </tbody>\n",
       "</table>\n",
       "<p>891 rows × 12 columns</p>\n",
       "</div>"
      ],
      "text/plain": [
       "     PassengerId  Survived  Pclass  \\\n",
       "0              1         0       3   \n",
       "1              2         1       1   \n",
       "2              3         1       3   \n",
       "3              4         1       1   \n",
       "4              5         0       3   \n",
       "..           ...       ...     ...   \n",
       "886          887         0       2   \n",
       "887          888         1       1   \n",
       "888          889         0       3   \n",
       "889          890         1       1   \n",
       "890          891         0       3   \n",
       "\n",
       "                                                  Name     Sex   Age  SibSp  \\\n",
       "0                              Braund, Mr. Owen Harris    male  22.0      1   \n",
       "1    Cumings, Mrs. John Bradley (Florence Briggs Th...  female  38.0      1   \n",
       "2                               Heikkinen, Miss. Laina  female  26.0      0   \n",
       "3         Futrelle, Mrs. Jacques Heath (Lily May Peel)  female  35.0      1   \n",
       "4                             Allen, Mr. William Henry    male  35.0      0   \n",
       "..                                                 ...     ...   ...    ...   \n",
       "886                              Montvila, Rev. Juozas    male  27.0      0   \n",
       "887                       Graham, Miss. Margaret Edith  female  19.0      0   \n",
       "888           Johnston, Miss. Catherine Helen \"Carrie\"  female   NaN      1   \n",
       "889                              Behr, Mr. Karl Howell    male  26.0      0   \n",
       "890                                Dooley, Mr. Patrick    male  32.0      0   \n",
       "\n",
       "     Parch            Ticket     Fare Cabin Embarked  \n",
       "0        0         A/5 21171   7.2500   NaN        S  \n",
       "1        0          PC 17599  71.2833   C85        C  \n",
       "2        0  STON/O2. 3101282   7.9250   NaN        S  \n",
       "3        0            113803  53.1000  C123        S  \n",
       "4        0            373450   8.0500   NaN        S  \n",
       "..     ...               ...      ...   ...      ...  \n",
       "886      0            211536  13.0000   NaN        S  \n",
       "887      0            112053  30.0000   B42        S  \n",
       "888      2        W./C. 6607  23.4500   NaN        S  \n",
       "889      0            111369  30.0000  C148        C  \n",
       "890      0            370376   7.7500   NaN        Q  \n",
       "\n",
       "[891 rows x 12 columns]"
      ]
     },
     "execution_count": 4,
     "metadata": {},
     "output_type": "execute_result"
    }
   ],
   "source": [
    "df_X_train"
   ]
  },
  {
   "cell_type": "code",
   "execution_count": 5,
   "id": "fe58d53d",
   "metadata": {
    "execution": {
     "iopub.execute_input": "2022-08-06T13:48:24.525115Z",
     "iopub.status.busy": "2022-08-06T13:48:24.524780Z",
     "iopub.status.idle": "2022-08-06T13:48:24.545232Z",
     "shell.execute_reply": "2022-08-06T13:48:24.544197Z"
    },
    "papermill": {
     "duration": 0.031568,
     "end_time": "2022-08-06T13:48:24.547638",
     "exception": false,
     "start_time": "2022-08-06T13:48:24.516070",
     "status": "completed"
    },
    "tags": []
   },
   "outputs": [
    {
     "data": {
      "text/html": [
       "<div>\n",
       "<style scoped>\n",
       "    .dataframe tbody tr th:only-of-type {\n",
       "        vertical-align: middle;\n",
       "    }\n",
       "\n",
       "    .dataframe tbody tr th {\n",
       "        vertical-align: top;\n",
       "    }\n",
       "\n",
       "    .dataframe thead th {\n",
       "        text-align: right;\n",
       "    }\n",
       "</style>\n",
       "<table border=\"1\" class=\"dataframe\">\n",
       "  <thead>\n",
       "    <tr style=\"text-align: right;\">\n",
       "      <th></th>\n",
       "      <th>PassengerId</th>\n",
       "      <th>Pclass</th>\n",
       "      <th>Name</th>\n",
       "      <th>Sex</th>\n",
       "      <th>Age</th>\n",
       "      <th>SibSp</th>\n",
       "      <th>Parch</th>\n",
       "      <th>Ticket</th>\n",
       "      <th>Fare</th>\n",
       "      <th>Cabin</th>\n",
       "      <th>Embarked</th>\n",
       "    </tr>\n",
       "  </thead>\n",
       "  <tbody>\n",
       "    <tr>\n",
       "      <th>0</th>\n",
       "      <td>892</td>\n",
       "      <td>3</td>\n",
       "      <td>Kelly, Mr. James</td>\n",
       "      <td>male</td>\n",
       "      <td>34.5</td>\n",
       "      <td>0</td>\n",
       "      <td>0</td>\n",
       "      <td>330911</td>\n",
       "      <td>7.8292</td>\n",
       "      <td>NaN</td>\n",
       "      <td>Q</td>\n",
       "    </tr>\n",
       "    <tr>\n",
       "      <th>1</th>\n",
       "      <td>893</td>\n",
       "      <td>3</td>\n",
       "      <td>Wilkes, Mrs. James (Ellen Needs)</td>\n",
       "      <td>female</td>\n",
       "      <td>47.0</td>\n",
       "      <td>1</td>\n",
       "      <td>0</td>\n",
       "      <td>363272</td>\n",
       "      <td>7.0000</td>\n",
       "      <td>NaN</td>\n",
       "      <td>S</td>\n",
       "    </tr>\n",
       "    <tr>\n",
       "      <th>2</th>\n",
       "      <td>894</td>\n",
       "      <td>2</td>\n",
       "      <td>Myles, Mr. Thomas Francis</td>\n",
       "      <td>male</td>\n",
       "      <td>62.0</td>\n",
       "      <td>0</td>\n",
       "      <td>0</td>\n",
       "      <td>240276</td>\n",
       "      <td>9.6875</td>\n",
       "      <td>NaN</td>\n",
       "      <td>Q</td>\n",
       "    </tr>\n",
       "    <tr>\n",
       "      <th>3</th>\n",
       "      <td>895</td>\n",
       "      <td>3</td>\n",
       "      <td>Wirz, Mr. Albert</td>\n",
       "      <td>male</td>\n",
       "      <td>27.0</td>\n",
       "      <td>0</td>\n",
       "      <td>0</td>\n",
       "      <td>315154</td>\n",
       "      <td>8.6625</td>\n",
       "      <td>NaN</td>\n",
       "      <td>S</td>\n",
       "    </tr>\n",
       "    <tr>\n",
       "      <th>4</th>\n",
       "      <td>896</td>\n",
       "      <td>3</td>\n",
       "      <td>Hirvonen, Mrs. Alexander (Helga E Lindqvist)</td>\n",
       "      <td>female</td>\n",
       "      <td>22.0</td>\n",
       "      <td>1</td>\n",
       "      <td>1</td>\n",
       "      <td>3101298</td>\n",
       "      <td>12.2875</td>\n",
       "      <td>NaN</td>\n",
       "      <td>S</td>\n",
       "    </tr>\n",
       "    <tr>\n",
       "      <th>...</th>\n",
       "      <td>...</td>\n",
       "      <td>...</td>\n",
       "      <td>...</td>\n",
       "      <td>...</td>\n",
       "      <td>...</td>\n",
       "      <td>...</td>\n",
       "      <td>...</td>\n",
       "      <td>...</td>\n",
       "      <td>...</td>\n",
       "      <td>...</td>\n",
       "      <td>...</td>\n",
       "    </tr>\n",
       "    <tr>\n",
       "      <th>413</th>\n",
       "      <td>1305</td>\n",
       "      <td>3</td>\n",
       "      <td>Spector, Mr. Woolf</td>\n",
       "      <td>male</td>\n",
       "      <td>NaN</td>\n",
       "      <td>0</td>\n",
       "      <td>0</td>\n",
       "      <td>A.5. 3236</td>\n",
       "      <td>8.0500</td>\n",
       "      <td>NaN</td>\n",
       "      <td>S</td>\n",
       "    </tr>\n",
       "    <tr>\n",
       "      <th>414</th>\n",
       "      <td>1306</td>\n",
       "      <td>1</td>\n",
       "      <td>Oliva y Ocana, Dona. Fermina</td>\n",
       "      <td>female</td>\n",
       "      <td>39.0</td>\n",
       "      <td>0</td>\n",
       "      <td>0</td>\n",
       "      <td>PC 17758</td>\n",
       "      <td>108.9000</td>\n",
       "      <td>C105</td>\n",
       "      <td>C</td>\n",
       "    </tr>\n",
       "    <tr>\n",
       "      <th>415</th>\n",
       "      <td>1307</td>\n",
       "      <td>3</td>\n",
       "      <td>Saether, Mr. Simon Sivertsen</td>\n",
       "      <td>male</td>\n",
       "      <td>38.5</td>\n",
       "      <td>0</td>\n",
       "      <td>0</td>\n",
       "      <td>SOTON/O.Q. 3101262</td>\n",
       "      <td>7.2500</td>\n",
       "      <td>NaN</td>\n",
       "      <td>S</td>\n",
       "    </tr>\n",
       "    <tr>\n",
       "      <th>416</th>\n",
       "      <td>1308</td>\n",
       "      <td>3</td>\n",
       "      <td>Ware, Mr. Frederick</td>\n",
       "      <td>male</td>\n",
       "      <td>NaN</td>\n",
       "      <td>0</td>\n",
       "      <td>0</td>\n",
       "      <td>359309</td>\n",
       "      <td>8.0500</td>\n",
       "      <td>NaN</td>\n",
       "      <td>S</td>\n",
       "    </tr>\n",
       "    <tr>\n",
       "      <th>417</th>\n",
       "      <td>1309</td>\n",
       "      <td>3</td>\n",
       "      <td>Peter, Master. Michael J</td>\n",
       "      <td>male</td>\n",
       "      <td>NaN</td>\n",
       "      <td>1</td>\n",
       "      <td>1</td>\n",
       "      <td>2668</td>\n",
       "      <td>22.3583</td>\n",
       "      <td>NaN</td>\n",
       "      <td>C</td>\n",
       "    </tr>\n",
       "  </tbody>\n",
       "</table>\n",
       "<p>418 rows × 11 columns</p>\n",
       "</div>"
      ],
      "text/plain": [
       "     PassengerId  Pclass                                          Name  \\\n",
       "0            892       3                              Kelly, Mr. James   \n",
       "1            893       3              Wilkes, Mrs. James (Ellen Needs)   \n",
       "2            894       2                     Myles, Mr. Thomas Francis   \n",
       "3            895       3                              Wirz, Mr. Albert   \n",
       "4            896       3  Hirvonen, Mrs. Alexander (Helga E Lindqvist)   \n",
       "..           ...     ...                                           ...   \n",
       "413         1305       3                            Spector, Mr. Woolf   \n",
       "414         1306       1                  Oliva y Ocana, Dona. Fermina   \n",
       "415         1307       3                  Saether, Mr. Simon Sivertsen   \n",
       "416         1308       3                           Ware, Mr. Frederick   \n",
       "417         1309       3                      Peter, Master. Michael J   \n",
       "\n",
       "        Sex   Age  SibSp  Parch              Ticket      Fare Cabin Embarked  \n",
       "0      male  34.5      0      0              330911    7.8292   NaN        Q  \n",
       "1    female  47.0      1      0              363272    7.0000   NaN        S  \n",
       "2      male  62.0      0      0              240276    9.6875   NaN        Q  \n",
       "3      male  27.0      0      0              315154    8.6625   NaN        S  \n",
       "4    female  22.0      1      1             3101298   12.2875   NaN        S  \n",
       "..      ...   ...    ...    ...                 ...       ...   ...      ...  \n",
       "413    male   NaN      0      0           A.5. 3236    8.0500   NaN        S  \n",
       "414  female  39.0      0      0            PC 17758  108.9000  C105        C  \n",
       "415    male  38.5      0      0  SOTON/O.Q. 3101262    7.2500   NaN        S  \n",
       "416    male   NaN      0      0              359309    8.0500   NaN        S  \n",
       "417    male   NaN      1      1                2668   22.3583   NaN        C  \n",
       "\n",
       "[418 rows x 11 columns]"
      ]
     },
     "execution_count": 5,
     "metadata": {},
     "output_type": "execute_result"
    }
   ],
   "source": [
    "df_X_test"
   ]
  },
  {
   "cell_type": "code",
   "execution_count": 6,
   "id": "b44531bd",
   "metadata": {
    "execution": {
     "iopub.execute_input": "2022-08-06T13:48:24.565322Z",
     "iopub.status.busy": "2022-08-06T13:48:24.564979Z",
     "iopub.status.idle": "2022-08-06T13:48:24.573539Z",
     "shell.execute_reply": "2022-08-06T13:48:24.572473Z"
    },
    "papermill": {
     "duration": 0.020203,
     "end_time": "2022-08-06T13:48:24.575810",
     "exception": false,
     "start_time": "2022-08-06T13:48:24.555607",
     "status": "completed"
    },
    "tags": []
   },
   "outputs": [],
   "source": [
    "#drop the passender ide columns to live the Target, people who survived\n",
    "y_test=df_p_target.drop(['PassengerId'],axis=1)"
   ]
  },
  {
   "cell_type": "code",
   "execution_count": 7,
   "id": "e5eb7d1d",
   "metadata": {
    "execution": {
     "iopub.execute_input": "2022-08-06T13:48:24.595224Z",
     "iopub.status.busy": "2022-08-06T13:48:24.594865Z",
     "iopub.status.idle": "2022-08-06T13:48:24.601314Z",
     "shell.execute_reply": "2022-08-06T13:48:24.600331Z"
    },
    "papermill": {
     "duration": 0.019704,
     "end_time": "2022-08-06T13:48:24.603538",
     "exception": false,
     "start_time": "2022-08-06T13:48:24.583834",
     "status": "completed"
    },
    "tags": []
   },
   "outputs": [
    {
     "data": {
      "text/plain": [
       "Index(['Survived'], dtype='object')"
      ]
     },
     "execution_count": 7,
     "metadata": {},
     "output_type": "execute_result"
    }
   ],
   "source": [
    "#show the columns after dropping\n",
    "y_test.columns"
   ]
  },
  {
   "cell_type": "markdown",
   "id": "8cca33a4",
   "metadata": {
    "papermill": {
     "duration": 0.007944,
     "end_time": "2022-08-06T13:48:24.619699",
     "exception": false,
     "start_time": "2022-08-06T13:48:24.611755",
     "status": "completed"
    },
    "tags": []
   },
   "source": [
    "Variable\tDefinition\tKey\n",
    "survival\tSurvival\t0 = No, 1 = Yes\n",
    "pclass\tTicket class\t1 = 1st, 2 = 2nd, 3 = 3rd\n",
    "sex\tSex\t\n",
    "Age\tAge in years\t\n",
    "sibsp\t# of siblings / spouses aboard the Titanic\t\n",
    "parch\t# of parents / children aboard the Titanic\t\n",
    "ticket\tTicket number\t\n",
    "fare\tPassenger fare\t\n",
    "cabin\tCabin number\t\n",
    "embarked\tPort of Embarkation\tC = Cherbourg, Q = Queenstown, S = Southampton\n"
   ]
  },
  {
   "cell_type": "code",
   "execution_count": 8,
   "id": "e15b86a5",
   "metadata": {
    "execution": {
     "iopub.execute_input": "2022-08-06T13:48:24.637764Z",
     "iopub.status.busy": "2022-08-06T13:48:24.637358Z",
     "iopub.status.idle": "2022-08-06T13:48:24.643265Z",
     "shell.execute_reply": "2022-08-06T13:48:24.642558Z"
    },
    "papermill": {
     "duration": 0.017353,
     "end_time": "2022-08-06T13:48:24.645207",
     "exception": false,
     "start_time": "2022-08-06T13:48:24.627854",
     "status": "completed"
    },
    "tags": []
   },
   "outputs": [
    {
     "data": {
      "text/plain": [
       "Index(['PassengerId', 'Survived', 'Pclass', 'Name', 'Sex', 'Age', 'SibSp',\n",
       "       'Parch', 'Ticket', 'Fare', 'Cabin', 'Embarked'],\n",
       "      dtype='object')"
      ]
     },
     "execution_count": 8,
     "metadata": {},
     "output_type": "execute_result"
    }
   ],
   "source": [
    "df_X_train.columns"
   ]
  },
  {
   "cell_type": "code",
   "execution_count": 9,
   "id": "d019bc92",
   "metadata": {
    "execution": {
     "iopub.execute_input": "2022-08-06T13:48:24.663607Z",
     "iopub.status.busy": "2022-08-06T13:48:24.663175Z",
     "iopub.status.idle": "2022-08-06T13:48:24.671168Z",
     "shell.execute_reply": "2022-08-06T13:48:24.670388Z"
    },
    "papermill": {
     "duration": 0.019654,
     "end_time": "2022-08-06T13:48:24.673115",
     "exception": false,
     "start_time": "2022-08-06T13:48:24.653461",
     "status": "completed"
    },
    "tags": []
   },
   "outputs": [
    {
     "data": {
      "text/plain": [
       "Index(['PassengerId', 'Pclass', 'Name', 'Sex', 'Age', 'SibSp', 'Parch',\n",
       "       'Ticket', 'Fare', 'Cabin', 'Embarked'],\n",
       "      dtype='object')"
      ]
     },
     "execution_count": 9,
     "metadata": {},
     "output_type": "execute_result"
    }
   ],
   "source": [
    "#droop the survived column for the training features: so to have a taget by itself\n",
    "X_train=df_X_train.drop(['Survived'],axis=1)\n",
    "X_train.columns\n"
   ]
  },
  {
   "cell_type": "code",
   "execution_count": 10,
   "id": "667719f7",
   "metadata": {
    "execution": {
     "iopub.execute_input": "2022-08-06T13:48:24.692952Z",
     "iopub.status.busy": "2022-08-06T13:48:24.692244Z",
     "iopub.status.idle": "2022-08-06T13:48:24.699766Z",
     "shell.execute_reply": "2022-08-06T13:48:24.698673Z"
    },
    "papermill": {
     "duration": 0.019696,
     "end_time": "2022-08-06T13:48:24.702110",
     "exception": false,
     "start_time": "2022-08-06T13:48:24.682414",
     "status": "completed"
    },
    "tags": []
   },
   "outputs": [
    {
     "data": {
      "text/plain": [
       "Index(['PassengerId', 'Pclass', 'Name', 'Sex', 'Age', 'SibSp', 'Parch',\n",
       "       'Ticket', 'Fare', 'Cabin', 'Embarked'],\n",
       "      dtype='object')"
      ]
     },
     "execution_count": 10,
     "metadata": {},
     "output_type": "execute_result"
    }
   ],
   "source": [
    "df_X_test.columns\n"
   ]
  },
  {
   "cell_type": "code",
   "execution_count": 11,
   "id": "35ce8082",
   "metadata": {
    "execution": {
     "iopub.execute_input": "2022-08-06T13:48:24.721384Z",
     "iopub.status.busy": "2022-08-06T13:48:24.720996Z",
     "iopub.status.idle": "2022-08-06T13:48:24.727760Z",
     "shell.execute_reply": "2022-08-06T13:48:24.726777Z"
    },
    "papermill": {
     "duration": 0.019236,
     "end_time": "2022-08-06T13:48:24.730131",
     "exception": false,
     "start_time": "2022-08-06T13:48:24.710895",
     "status": "completed"
    },
    "tags": []
   },
   "outputs": [],
   "source": [
    "#the target dor the training data,\n",
    "y_train=df_X_train.Survived\n",
    "#the target for the validation data\n",
    "y_test=df_X_train.Survived"
   ]
  },
  {
   "cell_type": "markdown",
   "id": "7bf4ca83",
   "metadata": {
    "papermill": {
     "duration": 0.008416,
     "end_time": "2022-08-06T13:48:24.747135",
     "exception": false,
     "start_time": "2022-08-06T13:48:24.738719",
     "status": "completed"
    },
    "tags": []
   },
   "source": [
    "**Training Data**\n",
    "Age has many missing data features, I will not include it\n",
    "Cabin has many missing data features\n",
    "theses two wont give me best predictions since they have msit missing data values."
   ]
  },
  {
   "cell_type": "code",
   "execution_count": 12,
   "id": "3b14af2d",
   "metadata": {
    "execution": {
     "iopub.execute_input": "2022-08-06T13:48:24.765885Z",
     "iopub.status.busy": "2022-08-06T13:48:24.765413Z",
     "iopub.status.idle": "2022-08-06T13:48:24.774406Z",
     "shell.execute_reply": "2022-08-06T13:48:24.773420Z"
    },
    "papermill": {
     "duration": 0.020725,
     "end_time": "2022-08-06T13:48:24.776450",
     "exception": false,
     "start_time": "2022-08-06T13:48:24.755725",
     "status": "completed"
    },
    "tags": []
   },
   "outputs": [
    {
     "data": {
      "text/plain": [
       "PassengerId      0\n",
       "Pclass           0\n",
       "Name             0\n",
       "Sex              0\n",
       "Age            177\n",
       "SibSp            0\n",
       "Parch            0\n",
       "Ticket           0\n",
       "Fare             0\n",
       "Cabin          687\n",
       "Embarked         2\n",
       "dtype: int64"
      ]
     },
     "execution_count": 12,
     "metadata": {},
     "output_type": "execute_result"
    }
   ],
   "source": [
    "#show the missing values in each column so that, I can decide whether to impute, or just cut the col a\n",
    "X_train.isna().sum()\n"
   ]
  },
  {
   "cell_type": "markdown",
   "id": "2eb1899d",
   "metadata": {
    "papermill": {
     "duration": 0.00849,
     "end_time": "2022-08-06T13:48:24.794098",
     "exception": false,
     "start_time": "2022-08-06T13:48:24.785608",
     "status": "completed"
    },
    "tags": []
   },
   "source": [
    "This methos checks and sums the missing values of each column\n",
    "show the summation of all missing entries"
   ]
  },
  {
   "cell_type": "code",
   "execution_count": 13,
   "id": "aff1fe4a",
   "metadata": {
    "execution": {
     "iopub.execute_input": "2022-08-06T13:48:24.813275Z",
     "iopub.status.busy": "2022-08-06T13:48:24.812884Z",
     "iopub.status.idle": "2022-08-06T13:48:24.821975Z",
     "shell.execute_reply": "2022-08-06T13:48:24.820945Z"
    },
    "papermill": {
     "duration": 0.02131,
     "end_time": "2022-08-06T13:48:24.824102",
     "exception": false,
     "start_time": "2022-08-06T13:48:24.802792",
     "status": "completed"
    },
    "tags": []
   },
   "outputs": [
    {
     "data": {
      "text/plain": [
       "PassengerId      0\n",
       "Pclass           0\n",
       "Name             0\n",
       "Sex              0\n",
       "Age             86\n",
       "SibSp            0\n",
       "Parch            0\n",
       "Ticket           0\n",
       "Fare             1\n",
       "Cabin          327\n",
       "Embarked         0\n",
       "dtype: int64"
      ]
     },
     "execution_count": 13,
     "metadata": {},
     "output_type": "execute_result"
    }
   ],
   "source": [
    "\n",
    "#for the test or the validation data\n",
    "df_X_test.isna().sum()"
   ]
  },
  {
   "cell_type": "markdown",
   "id": "452f00e1",
   "metadata": {
    "papermill": {
     "duration": 0.009085,
     "end_time": "2022-08-06T13:48:24.842188",
     "exception": false,
     "start_time": "2022-08-06T13:48:24.833103",
     "status": "completed"
    },
    "tags": []
   },
   "source": [
    "**Validation data**\n",
    "Age has many missing data features, I will not include it\n",
    "Cabin has many missing data features\n",
    "theses two wont give me best predictions since they have msit missing data values."
   ]
  },
  {
   "cell_type": "code",
   "execution_count": 14,
   "id": "383a6f77",
   "metadata": {
    "execution": {
     "iopub.execute_input": "2022-08-06T13:48:24.865340Z",
     "iopub.status.busy": "2022-08-06T13:48:24.864968Z",
     "iopub.status.idle": "2022-08-06T13:48:24.871261Z",
     "shell.execute_reply": "2022-08-06T13:48:24.870542Z"
    },
    "papermill": {
     "duration": 0.020912,
     "end_time": "2022-08-06T13:48:24.875180",
     "exception": false,
     "start_time": "2022-08-06T13:48:24.854268",
     "status": "completed"
    },
    "tags": []
   },
   "outputs": [
    {
     "data": {
      "text/plain": [
       "Index(['PassengerId', 'Pclass', 'Name', 'Sex', 'Age', 'SibSp', 'Parch',\n",
       "       'Ticket', 'Fare', 'Cabin', 'Embarked'],\n",
       "      dtype='object')"
      ]
     },
     "execution_count": 14,
     "metadata": {},
     "output_type": "execute_result"
    }
   ],
   "source": [
    "df_X_test.columns"
   ]
  },
  {
   "cell_type": "code",
   "execution_count": 15,
   "id": "29e5866a",
   "metadata": {
    "execution": {
     "iopub.execute_input": "2022-08-06T13:48:24.905309Z",
     "iopub.status.busy": "2022-08-06T13:48:24.904847Z",
     "iopub.status.idle": "2022-08-06T13:48:24.915079Z",
     "shell.execute_reply": "2022-08-06T13:48:24.913575Z"
    },
    "papermill": {
     "duration": 0.030252,
     "end_time": "2022-08-06T13:48:24.917713",
     "exception": false,
     "start_time": "2022-08-06T13:48:24.887461",
     "status": "completed"
    },
    "tags": []
   },
   "outputs": [],
   "source": [
    "#locc() functions helps to articulate the data frame well.. helps you manipulate data within xolumns\n",
    "X_train=X_train.loc[X_train.Embarked.notna(),['Pclass','Sex','SibSp','Parch','Embarked']]\n",
    "X_test=df_X_test.drop(['PassengerId','Name','Age','Ticket','Fare','Cabin'],axis=1)"
   ]
  },
  {
   "cell_type": "markdown",
   "id": "77886794",
   "metadata": {
    "papermill": {
     "duration": 0.015551,
     "end_time": "2022-08-06T13:48:24.944163",
     "exception": false,
     "start_time": "2022-08-06T13:48:24.928612",
     "status": "completed"
    },
    "tags": []
   },
   "source": [
    "**Training features**"
   ]
  },
  {
   "cell_type": "code",
   "execution_count": 16,
   "id": "acf155a2",
   "metadata": {
    "execution": {
     "iopub.execute_input": "2022-08-06T13:48:24.965016Z",
     "iopub.status.busy": "2022-08-06T13:48:24.964229Z",
     "iopub.status.idle": "2022-08-06T13:48:24.979657Z",
     "shell.execute_reply": "2022-08-06T13:48:24.978545Z"
    },
    "papermill": {
     "duration": 0.028215,
     "end_time": "2022-08-06T13:48:24.982065",
     "exception": false,
     "start_time": "2022-08-06T13:48:24.953850",
     "status": "completed"
    },
    "tags": []
   },
   "outputs": [
    {
     "data": {
      "text/html": [
       "<div>\n",
       "<style scoped>\n",
       "    .dataframe tbody tr th:only-of-type {\n",
       "        vertical-align: middle;\n",
       "    }\n",
       "\n",
       "    .dataframe tbody tr th {\n",
       "        vertical-align: top;\n",
       "    }\n",
       "\n",
       "    .dataframe thead th {\n",
       "        text-align: right;\n",
       "    }\n",
       "</style>\n",
       "<table border=\"1\" class=\"dataframe\">\n",
       "  <thead>\n",
       "    <tr style=\"text-align: right;\">\n",
       "      <th></th>\n",
       "      <th>Pclass</th>\n",
       "      <th>Sex</th>\n",
       "      <th>SibSp</th>\n",
       "      <th>Parch</th>\n",
       "      <th>Embarked</th>\n",
       "    </tr>\n",
       "  </thead>\n",
       "  <tbody>\n",
       "    <tr>\n",
       "      <th>0</th>\n",
       "      <td>3</td>\n",
       "      <td>male</td>\n",
       "      <td>1</td>\n",
       "      <td>0</td>\n",
       "      <td>S</td>\n",
       "    </tr>\n",
       "    <tr>\n",
       "      <th>1</th>\n",
       "      <td>1</td>\n",
       "      <td>female</td>\n",
       "      <td>1</td>\n",
       "      <td>0</td>\n",
       "      <td>C</td>\n",
       "    </tr>\n",
       "    <tr>\n",
       "      <th>2</th>\n",
       "      <td>3</td>\n",
       "      <td>female</td>\n",
       "      <td>0</td>\n",
       "      <td>0</td>\n",
       "      <td>S</td>\n",
       "    </tr>\n",
       "    <tr>\n",
       "      <th>3</th>\n",
       "      <td>1</td>\n",
       "      <td>female</td>\n",
       "      <td>1</td>\n",
       "      <td>0</td>\n",
       "      <td>S</td>\n",
       "    </tr>\n",
       "    <tr>\n",
       "      <th>4</th>\n",
       "      <td>3</td>\n",
       "      <td>male</td>\n",
       "      <td>0</td>\n",
       "      <td>0</td>\n",
       "      <td>S</td>\n",
       "    </tr>\n",
       "    <tr>\n",
       "      <th>...</th>\n",
       "      <td>...</td>\n",
       "      <td>...</td>\n",
       "      <td>...</td>\n",
       "      <td>...</td>\n",
       "      <td>...</td>\n",
       "    </tr>\n",
       "    <tr>\n",
       "      <th>886</th>\n",
       "      <td>2</td>\n",
       "      <td>male</td>\n",
       "      <td>0</td>\n",
       "      <td>0</td>\n",
       "      <td>S</td>\n",
       "    </tr>\n",
       "    <tr>\n",
       "      <th>887</th>\n",
       "      <td>1</td>\n",
       "      <td>female</td>\n",
       "      <td>0</td>\n",
       "      <td>0</td>\n",
       "      <td>S</td>\n",
       "    </tr>\n",
       "    <tr>\n",
       "      <th>888</th>\n",
       "      <td>3</td>\n",
       "      <td>female</td>\n",
       "      <td>1</td>\n",
       "      <td>2</td>\n",
       "      <td>S</td>\n",
       "    </tr>\n",
       "    <tr>\n",
       "      <th>889</th>\n",
       "      <td>1</td>\n",
       "      <td>male</td>\n",
       "      <td>0</td>\n",
       "      <td>0</td>\n",
       "      <td>C</td>\n",
       "    </tr>\n",
       "    <tr>\n",
       "      <th>890</th>\n",
       "      <td>3</td>\n",
       "      <td>male</td>\n",
       "      <td>0</td>\n",
       "      <td>0</td>\n",
       "      <td>Q</td>\n",
       "    </tr>\n",
       "  </tbody>\n",
       "</table>\n",
       "<p>889 rows × 5 columns</p>\n",
       "</div>"
      ],
      "text/plain": [
       "     Pclass     Sex  SibSp  Parch Embarked\n",
       "0         3    male      1      0        S\n",
       "1         1  female      1      0        C\n",
       "2         3  female      0      0        S\n",
       "3         1  female      1      0        S\n",
       "4         3    male      0      0        S\n",
       "..      ...     ...    ...    ...      ...\n",
       "886       2    male      0      0        S\n",
       "887       1  female      0      0        S\n",
       "888       3  female      1      2        S\n",
       "889       1    male      0      0        C\n",
       "890       3    male      0      0        Q\n",
       "\n",
       "[889 rows x 5 columns]"
      ]
     },
     "execution_count": 16,
     "metadata": {},
     "output_type": "execute_result"
    }
   ],
   "source": [
    "#Proper clean and relevant data\n",
    "X_train"
   ]
  },
  {
   "cell_type": "code",
   "execution_count": 17,
   "id": "beda4f7a",
   "metadata": {
    "execution": {
     "iopub.execute_input": "2022-08-06T13:48:25.001979Z",
     "iopub.status.busy": "2022-08-06T13:48:25.001599Z",
     "iopub.status.idle": "2022-08-06T13:48:25.016366Z",
     "shell.execute_reply": "2022-08-06T13:48:25.015563Z"
    },
    "papermill": {
     "duration": 0.027051,
     "end_time": "2022-08-06T13:48:25.018335",
     "exception": false,
     "start_time": "2022-08-06T13:48:24.991284",
     "status": "completed"
    },
    "tags": []
   },
   "outputs": [
    {
     "data": {
      "text/html": [
       "<div>\n",
       "<style scoped>\n",
       "    .dataframe tbody tr th:only-of-type {\n",
       "        vertical-align: middle;\n",
       "    }\n",
       "\n",
       "    .dataframe tbody tr th {\n",
       "        vertical-align: top;\n",
       "    }\n",
       "\n",
       "    .dataframe thead th {\n",
       "        text-align: right;\n",
       "    }\n",
       "</style>\n",
       "<table border=\"1\" class=\"dataframe\">\n",
       "  <thead>\n",
       "    <tr style=\"text-align: right;\">\n",
       "      <th></th>\n",
       "      <th>Pclass</th>\n",
       "      <th>Sex</th>\n",
       "      <th>SibSp</th>\n",
       "      <th>Parch</th>\n",
       "      <th>Embarked</th>\n",
       "    </tr>\n",
       "  </thead>\n",
       "  <tbody>\n",
       "    <tr>\n",
       "      <th>0</th>\n",
       "      <td>3</td>\n",
       "      <td>male</td>\n",
       "      <td>0</td>\n",
       "      <td>0</td>\n",
       "      <td>Q</td>\n",
       "    </tr>\n",
       "    <tr>\n",
       "      <th>1</th>\n",
       "      <td>3</td>\n",
       "      <td>female</td>\n",
       "      <td>1</td>\n",
       "      <td>0</td>\n",
       "      <td>S</td>\n",
       "    </tr>\n",
       "    <tr>\n",
       "      <th>2</th>\n",
       "      <td>2</td>\n",
       "      <td>male</td>\n",
       "      <td>0</td>\n",
       "      <td>0</td>\n",
       "      <td>Q</td>\n",
       "    </tr>\n",
       "    <tr>\n",
       "      <th>3</th>\n",
       "      <td>3</td>\n",
       "      <td>male</td>\n",
       "      <td>0</td>\n",
       "      <td>0</td>\n",
       "      <td>S</td>\n",
       "    </tr>\n",
       "    <tr>\n",
       "      <th>4</th>\n",
       "      <td>3</td>\n",
       "      <td>female</td>\n",
       "      <td>1</td>\n",
       "      <td>1</td>\n",
       "      <td>S</td>\n",
       "    </tr>\n",
       "    <tr>\n",
       "      <th>...</th>\n",
       "      <td>...</td>\n",
       "      <td>...</td>\n",
       "      <td>...</td>\n",
       "      <td>...</td>\n",
       "      <td>...</td>\n",
       "    </tr>\n",
       "    <tr>\n",
       "      <th>413</th>\n",
       "      <td>3</td>\n",
       "      <td>male</td>\n",
       "      <td>0</td>\n",
       "      <td>0</td>\n",
       "      <td>S</td>\n",
       "    </tr>\n",
       "    <tr>\n",
       "      <th>414</th>\n",
       "      <td>1</td>\n",
       "      <td>female</td>\n",
       "      <td>0</td>\n",
       "      <td>0</td>\n",
       "      <td>C</td>\n",
       "    </tr>\n",
       "    <tr>\n",
       "      <th>415</th>\n",
       "      <td>3</td>\n",
       "      <td>male</td>\n",
       "      <td>0</td>\n",
       "      <td>0</td>\n",
       "      <td>S</td>\n",
       "    </tr>\n",
       "    <tr>\n",
       "      <th>416</th>\n",
       "      <td>3</td>\n",
       "      <td>male</td>\n",
       "      <td>0</td>\n",
       "      <td>0</td>\n",
       "      <td>S</td>\n",
       "    </tr>\n",
       "    <tr>\n",
       "      <th>417</th>\n",
       "      <td>3</td>\n",
       "      <td>male</td>\n",
       "      <td>1</td>\n",
       "      <td>1</td>\n",
       "      <td>C</td>\n",
       "    </tr>\n",
       "  </tbody>\n",
       "</table>\n",
       "<p>418 rows × 5 columns</p>\n",
       "</div>"
      ],
      "text/plain": [
       "     Pclass     Sex  SibSp  Parch Embarked\n",
       "0         3    male      0      0        Q\n",
       "1         3  female      1      0        S\n",
       "2         2    male      0      0        Q\n",
       "3         3    male      0      0        S\n",
       "4         3  female      1      1        S\n",
       "..      ...     ...    ...    ...      ...\n",
       "413       3    male      0      0        S\n",
       "414       1  female      0      0        C\n",
       "415       3    male      0      0        S\n",
       "416       3    male      0      0        S\n",
       "417       3    male      1      1        C\n",
       "\n",
       "[418 rows x 5 columns]"
      ]
     },
     "execution_count": 17,
     "metadata": {},
     "output_type": "execute_result"
    }
   ],
   "source": [
    "#Validation Features\n",
    "#proper clean and relevant data\n",
    "X_test"
   ]
  },
  {
   "cell_type": "markdown",
   "id": "49a8dca3",
   "metadata": {
    "papermill": {
     "duration": 0.008972,
     "end_time": "2022-08-06T13:48:25.036647",
     "exception": false,
     "start_time": "2022-08-06T13:48:25.027675",
     "status": "completed"
    },
    "tags": []
   },
   "source": [
    "**Training features**"
   ]
  },
  {
   "cell_type": "code",
   "execution_count": 18,
   "id": "7444e7b6",
   "metadata": {
    "execution": {
     "iopub.execute_input": "2022-08-06T13:48:25.057220Z",
     "iopub.status.busy": "2022-08-06T13:48:25.056221Z",
     "iopub.status.idle": "2022-08-06T13:48:25.064704Z",
     "shell.execute_reply": "2022-08-06T13:48:25.063802Z"
    },
    "papermill": {
     "duration": 0.020921,
     "end_time": "2022-08-06T13:48:25.066747",
     "exception": false,
     "start_time": "2022-08-06T13:48:25.045826",
     "status": "completed"
    },
    "tags": []
   },
   "outputs": [
    {
     "data": {
      "text/plain": [
       "Pclass      0\n",
       "Sex         0\n",
       "SibSp       0\n",
       "Parch       0\n",
       "Embarked    0\n",
       "dtype: int64"
      ]
     },
     "execution_count": 18,
     "metadata": {},
     "output_type": "execute_result"
    }
   ],
   "source": [
    "#double checking the features for the null values\n",
    "X_train.isna().sum()"
   ]
  },
  {
   "cell_type": "markdown",
   "id": "ffa54744",
   "metadata": {
    "papermill": {
     "duration": 0.008841,
     "end_time": "2022-08-06T13:48:25.084761",
     "exception": false,
     "start_time": "2022-08-06T13:48:25.075920",
     "status": "completed"
    },
    "tags": []
   },
   "source": [
    "**validation features**"
   ]
  },
  {
   "cell_type": "code",
   "execution_count": 19,
   "id": "fedf7f2e",
   "metadata": {
    "execution": {
     "iopub.execute_input": "2022-08-06T13:48:25.105674Z",
     "iopub.status.busy": "2022-08-06T13:48:25.104977Z",
     "iopub.status.idle": "2022-08-06T13:48:25.113159Z",
     "shell.execute_reply": "2022-08-06T13:48:25.112117Z"
    },
    "papermill": {
     "duration": 0.020909,
     "end_time": "2022-08-06T13:48:25.115291",
     "exception": false,
     "start_time": "2022-08-06T13:48:25.094382",
     "status": "completed"
    },
    "tags": []
   },
   "outputs": [
    {
     "data": {
      "text/plain": [
       "Pclass      0\n",
       "Sex         0\n",
       "SibSp       0\n",
       "Parch       0\n",
       "Embarked    0\n",
       "dtype: int64"
      ]
     },
     "execution_count": 19,
     "metadata": {},
     "output_type": "execute_result"
    }
   ],
   "source": [
    "#double checking the features for the null values\n",
    "X_train.isna().sum()"
   ]
  },
  {
   "cell_type": "markdown",
   "id": "b0e0c252",
   "metadata": {
    "execution": {
     "iopub.execute_input": "2022-08-06T12:48:11.912660Z",
     "iopub.status.busy": "2022-08-06T12:48:11.911262Z",
     "iopub.status.idle": "2022-08-06T12:48:11.938504Z",
     "shell.execute_reply": "2022-08-06T12:48:11.936722Z",
     "shell.execute_reply.started": "2022-08-06T12:48:11.912599Z"
    },
    "papermill": {
     "duration": 0.009065,
     "end_time": "2022-08-06T13:48:25.133829",
     "exception": false,
     "start_time": "2022-08-06T13:48:25.124764",
     "status": "completed"
    },
    "tags": []
   },
   "source": [
    "Important to check the shape of the features : training and validation"
   ]
  },
  {
   "cell_type": "code",
   "execution_count": 20,
   "id": "39d6e23d",
   "metadata": {
    "execution": {
     "iopub.execute_input": "2022-08-06T13:48:25.154619Z",
     "iopub.status.busy": "2022-08-06T13:48:25.154185Z",
     "iopub.status.idle": "2022-08-06T13:48:25.159677Z",
     "shell.execute_reply": "2022-08-06T13:48:25.158916Z"
    },
    "papermill": {
     "duration": 0.018391,
     "end_time": "2022-08-06T13:48:25.161568",
     "exception": false,
     "start_time": "2022-08-06T13:48:25.143177",
     "status": "completed"
    },
    "tags": []
   },
   "outputs": [
    {
     "data": {
      "text/plain": [
       "(889, 5)"
      ]
     },
     "execution_count": 20,
     "metadata": {},
     "output_type": "execute_result"
    }
   ],
   "source": [
    "#The shape of the training features\n",
    "X_train.shape"
   ]
  },
  {
   "cell_type": "code",
   "execution_count": 21,
   "id": "8a9ca229",
   "metadata": {
    "execution": {
     "iopub.execute_input": "2022-08-06T13:48:25.182567Z",
     "iopub.status.busy": "2022-08-06T13:48:25.181883Z",
     "iopub.status.idle": "2022-08-06T13:48:25.187371Z",
     "shell.execute_reply": "2022-08-06T13:48:25.186661Z"
    },
    "papermill": {
     "duration": 0.01831,
     "end_time": "2022-08-06T13:48:25.189233",
     "exception": false,
     "start_time": "2022-08-06T13:48:25.170923",
     "status": "completed"
    },
    "tags": []
   },
   "outputs": [
    {
     "data": {
      "text/plain": [
       "(418, 5)"
      ]
     },
     "execution_count": 21,
     "metadata": {},
     "output_type": "execute_result"
    }
   ],
   "source": [
    "#The shape of the validation data\n",
    "X_test.shape"
   ]
  },
  {
   "cell_type": "code",
   "execution_count": 22,
   "id": "6ad85cb7",
   "metadata": {
    "execution": {
     "iopub.execute_input": "2022-08-06T13:48:25.210405Z",
     "iopub.status.busy": "2022-08-06T13:48:25.209710Z",
     "iopub.status.idle": "2022-08-06T13:48:25.215257Z",
     "shell.execute_reply": "2022-08-06T13:48:25.214544Z"
    },
    "papermill": {
     "duration": 0.018353,
     "end_time": "2022-08-06T13:48:25.217129",
     "exception": false,
     "start_time": "2022-08-06T13:48:25.198776",
     "status": "completed"
    },
    "tags": []
   },
   "outputs": [
    {
     "data": {
      "text/plain": [
       "(891,)"
      ]
     },
     "execution_count": 22,
     "metadata": {},
     "output_type": "execute_result"
    }
   ],
   "source": [
    "#The shape of the target for trainig data\n",
    "y_train.shape"
   ]
  },
  {
   "cell_type": "code",
   "execution_count": 23,
   "id": "86e017c5",
   "metadata": {
    "execution": {
     "iopub.execute_input": "2022-08-06T13:48:25.238101Z",
     "iopub.status.busy": "2022-08-06T13:48:25.237429Z",
     "iopub.status.idle": "2022-08-06T13:48:25.242605Z",
     "shell.execute_reply": "2022-08-06T13:48:25.241898Z"
    },
    "papermill": {
     "duration": 0.017805,
     "end_time": "2022-08-06T13:48:25.244433",
     "exception": false,
     "start_time": "2022-08-06T13:48:25.226628",
     "status": "completed"
    },
    "tags": []
   },
   "outputs": [
    {
     "data": {
      "text/plain": [
       "(891,)"
      ]
     },
     "execution_count": 23,
     "metadata": {},
     "output_type": "execute_result"
    }
   ],
   "source": [
    "#The shape of the target of the validation data\n",
    "y_test.shape"
   ]
  },
  {
   "cell_type": "markdown",
   "id": "bff923da",
   "metadata": {
    "papermill": {
     "duration": 0.009333,
     "end_time": "2022-08-06T13:48:25.263427",
     "exception": false,
     "start_time": "2022-08-06T13:48:25.254094",
     "status": "completed"
    },
    "tags": []
   },
   "source": []
  },
  {
   "cell_type": "code",
   "execution_count": null,
   "id": "b3582bf6",
   "metadata": {
    "papermill": {
     "duration": 0.009524,
     "end_time": "2022-08-06T13:48:25.282653",
     "exception": false,
     "start_time": "2022-08-06T13:48:25.273129",
     "status": "completed"
    },
    "tags": []
   },
   "outputs": [],
   "source": []
  }
 ],
 "metadata": {
  "kernelspec": {
   "display_name": "Python 3",
   "language": "python",
   "name": "python3"
  },
  "language_info": {
   "codemirror_mode": {
    "name": "ipython",
    "version": 3
   },
   "file_extension": ".py",
   "mimetype": "text/x-python",
   "name": "python",
   "nbconvert_exporter": "python",
   "pygments_lexer": "ipython3",
   "version": "3.7.12"
  },
  "papermill": {
   "default_parameters": {},
   "duration": 11.713388,
   "end_time": "2022-08-06T13:48:26.013338",
   "environment_variables": {},
   "exception": null,
   "input_path": "__notebook__.ipynb",
   "output_path": "__notebook__.ipynb",
   "parameters": {},
   "start_time": "2022-08-06T13:48:14.299950",
   "version": "2.3.4"
  }
 },
 "nbformat": 4,
 "nbformat_minor": 5
}
